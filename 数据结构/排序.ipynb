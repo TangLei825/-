{
 "cells": [
  {
   "cell_type": "code",
   "execution_count": 3,
   "metadata": {},
   "outputs": [],
   "source": [
    "import random"
   ]
  },
  {
   "cell_type": "code",
   "execution_count": null,
   "metadata": {},
   "outputs": [],
   "source": [
    "'''\n",
    "冒泡（每次遍历都能确定一个位置）\n",
    "1、遍历n-1次，每次遍历n-i-1个元素（因为每次遍历完成，冒出一个最大的，就不用比较了）\n",
    "2、增加exchange变量，判断列表是否已经有序，可以减少复杂度\n",
    "3、复杂度：O(n^2)，稳定\n",
    "'''\n",
    "def double_sort(li):\n",
    "    for i in range(len(li)-1): # 第i趟\n",
    "        exchange = False\n",
    "        # 对冒泡的改进，若一趟排序下来，没有发生交换，则说明已经排好序\n",
    "        for j in range(len(li)-i-1):\n",
    "            if li[j] > li[j+1]: # 指针所指的值大于指针后面的值\n",
    "                # (大的数往前，为升序，若改为小于号，小的数往前，则为降序）\n",
    "                li[j], li[j+1] = li[j+1], li[j]  # 列表的值的交换\n",
    "                exchange = True\n",
    "        if exchange == False: # 对冒泡的改进，若一趟排序下来，没有发生交换，则说明已经排好序\n",
    "            return                            "
   ]
  },
  {
   "cell_type": "code",
   "execution_count": null,
   "metadata": {},
   "outputs": [],
   "source": [
    "'''\n",
    "选择（每次能够确定一个位置）\n",
    "1、遍历n-1次，每次遍历n-i-1个元素（将列表逻辑划分为有序区（最前面）和无序区（有序区之后）\n",
    "，遍历一遍无序区的元素，获得该区域最小的值与有序区的最后一个位置交换）\n",
    "2、记录下标来比较出无序区的最小值，记录值的话不方便\n",
    "3、复杂度：O(n^2)，不稳定（两个相同的值，会因为先后顺序，被改变位置）\n",
    "'''\n",
    "def select_sort(li):  # 改良后的选择，不建立新表，将最小值（最大）与有序区的最后一个位置交换\n",
    "    for i in range(len(li)-1):  # 第i趟，每趟有序区多一个\n",
    "        min_loc = i   # 假设有序区第一个是最小的位置\n",
    "        for j in range(len(li)-1-i): # i是前面有序区的元素个数了\n",
    "            if li[j] < li[min_loc]:\n",
    "                min_loc = j\n",
    "        li[i], li[min_loc] = li[min_loc], li[i]  # 将找到的最小值与前面的值交换        "
   ]
  },
  {
   "cell_type": "code",
   "execution_count": null,
   "metadata": {},
   "outputs": [],
   "source": [
    "'''\n",
    "选择\n",
    "1、遍历n-1次，每次遍历i个元素（将列表逻辑划分为有序区（最前面）和无序区（有序区后面），\n",
    "从无序区中抽取一个元素，在有序区中从后向前比较，若比有序区的元素大，则插入）\n",
    "2、用下标来比较\n",
    "3、复杂度：O(n^2)，稳定\n",
    "'''\n",
    "def insert_sort(li):  \n",
    "    for i in range(1, len(li)):   # i是无序区第一个元素\n",
    "        j = i-1    # j是有序区最后一个元素（要比i小）\n",
    "        t = li[i]  # 因为有序区的位置要变化（向后移动，给i腾出位置），所以要记录值\n",
    "        \n",
    "        while t < li[j] and j >= 0:   # 循环结束后，j位置的元素比t小，所以t要插在j的后面\n",
    "            li[j+1] = li[j]  \n",
    "            j -= 1\n",
    "        li[j+1] = t\n",
    "        print(li)"
   ]
  },
  {
   "cell_type": "code",
   "execution_count": null,
   "metadata": {},
   "outputs": [],
   "source": [
    "'''\n",
    "快速排序（递归实现）\n",
    "1、记录最左边的元素为t，根据两个下标（left，right）：\n",
    "先从右往左找出小于t的元素（小的数应该在左），将left赋予该值；\n",
    "接着从左边往右找出大于t的元素（大的数应该在右），将right赋予该值；\n",
    "最后将t放在一个mid位置，左边的元素都小于它，右边的元素都大于它\n",
    "2、接着，递归将mid的左边作为子列表，右边也作为子列表进行划分\n",
    "（当只有三个元素，或者两个元素的时候，一定是有序的）\n",
    "3、复杂度：O（nlogn），不稳定\n",
    "'''\n",
    "def partition(li, left, right):\n",
    "    t = li[left]\n",
    "    while left < right:\n",
    "        while left < right and li[right] >= t: # 从右往左找小于t的数，大于就往左走一步\n",
    "            right -= 1\n",
    "        li[left] = li[right]\n",
    "\n",
    "        while left < right and li[left] <= t: # 从左往右找大于t的数，大于就往右走一步\n",
    "            left += 1\n",
    "        li[right] = li[left]\n",
    "    li[left] = t   # 最后得到的一定是left == right 的时候\n",
    "    print(li)\n",
    "    return left    # 返回第一个元素应该在的位置\n",
    "\n",
    "\n",
    "def quick_sort(li, left, right):\n",
    "    if left < right:\n",
    "        mid = partition(li, left, right)  # 该作用是排序\n",
    "        #（如果这里传入的是3个或者2个元素的，则排序之后，后面的两个递归一定不满足if条件，就结束了）\n",
    "        \n",
    "        quick_sort(li, left, mid-1)\t\t  # 用于划分子序列，进行递归\n",
    "        quick_sort(li, mid + 1, right)"
   ]
  },
  {
   "cell_type": "code",
   "execution_count": 18,
   "metadata": {},
   "outputs": [],
   "source": [
    "'''\n",
    "堆排序（将列表视作一个完全二叉树）\n",
    "1、父节点i的左孩子是2i+1，右孩子是2i+2（i=0,1,2,...,n）\n",
    "2、构建堆（以大根堆为例）：从最下面的子树开始建立（最后一个非叶子节点），逐步往上，\n",
    "保证每个子树中，父节点是最大的（并不是整个堆都是有序的）\n",
    "3、取出对顶元素（最大），重新调整堆（将最后一个叶子节点换上根节点，从上往下调整），\n",
    "重复此步骤，直到取出所有元素（堆变空）\n",
    "4、复杂度：O（nlogn），不稳定\n",
    "'''        \n",
    "# sift 用于调整堆（目的是找出新根在堆中的位置）\n",
    "def sift(li, low, high):\n",
    "    # low 堆的顶点（列表的第一个位置）\n",
    "    # high 堆的最后一个节点（列表的最后一个位置）\n",
    "    i = low      # 父节点\n",
    "    j = 2*i+1    # 左孩子\n",
    "    t = li[low]  # 暂存要调整的根的值，用于比较，找到它适合的位置\n",
    "    \n",
    "    while j <= high: # 只要存在孩子，就要跟孩子比较\n",
    "        \n",
    "        # 选择左右孩子中最大的那个\n",
    "        if j+1 <= high and li[j+1] > li[j]: \n",
    "            j = j + 1   \n",
    "            \n",
    "        # 比较孩子与新根值的大小\n",
    "        if li[j] > t:       \n",
    "            li[i] = li[j]   # 更新父节点，继续往下找\n",
    "            i = j           # i作为下一个子树的父节点\n",
    "            # 最终，i的位置将用于存放t的值\n",
    "            j = 2*i+1\n",
    "        else:\n",
    "            break           \n",
    "            # 哪个节点改变了就改变哪里，其余地方是已经排好了的，没有改变就说明调整完毕\n",
    "\n",
    "    # 最终找到的i就是t要放置的位置，因为它的值在调整的时候已经赋予给了父亲\n",
    "    li[i] = t\n",
    "\n",
    "def heap_sort(li):  #  从最后一个非叶子节点开始\n",
    "    n = len(li)\n",
    "    # 构建堆\n",
    "    # 最后一个元素的下标是n-1，所以最后一个非叶子节点的位置是( (n-1)-1 ) // 2\n",
    "    # 依据是孩子j的父节点是 (j-1) // 2\n",
    "    for i in range( (n-2)//2, -1, -1 ): \n",
    "        # range((n - 2) // 2, -1, -1) 生成 (n - 2) // 2 ~ 0 的倒序\n",
    "        # 0,...,5,...,9(-1)，若是正序，则是从5开始，往右边数\n",
    "        # 若是逆序，则是从5开始（但不包括在内），往左边数\n",
    "        # i表示建堆时，调整的部分的根的下标\n",
    "        sift(li, i, n-1)  # 相当于从最小的一颗二叉树，逐步往上建立堆\n",
    "    # 此时建立好一个大根堆\n",
    "    \n",
    "    # 调整堆（逐步取出堆顶，然后用最后一个元素放入堆顶，从上往下调整堆）\n",
    "    for i in range(n-1, -1, -1):\n",
    "        # i指向当前堆的最后一个元素\n",
    "        li[0], li[i] = li[i], li[0]  # 将堆顶元素放在当前堆的最后一个叶子节点处\n",
    "        sift(li, 0, i-1)             # 调整整个堆\n"
   ]
  },
  {
   "cell_type": "code",
   "execution_count": 25,
   "metadata": {},
   "outputs": [
    {
     "name": "stdout",
     "output_type": "stream",
     "text": [
      "Pretty printing has been turned OFF\n"
     ]
    }
   ],
   "source": [
    "%pprint    # upyter Notebook 的“pretty print” 的默认功能会让列表多行打印（觉得不好看的，就把这个功能关掉）（再执行一次，就是打开了）"
   ]
  },
  {
   "cell_type": "code",
   "execution_count": 26,
   "metadata": {},
   "outputs": [
    {
     "data": {
      "text/plain": [
       "[4, 16, 2, 6, 1, 14, 13, 19, 10, 18, 12, 24, 9, 15, 20, 8, 5, 17, 22, 21, 7, 0, 3, 23, 11]"
      ]
     },
     "execution_count": 26,
     "metadata": {},
     "output_type": "execute_result"
    }
   ],
   "source": [
    "li = list(range(25))\n",
    "import random\n",
    "random.shuffle(li)\n",
    "li"
   ]
  },
  {
   "cell_type": "code",
   "execution_count": 27,
   "metadata": {},
   "outputs": [
    {
     "data": {
      "text/plain": [
       "[0, 1, 2, 3, 4, 5, 6, 7, 8, 9, 10, 11, 12, 13, 14, 15, 16, 17, 18, 19, 20, 21, 22, 23, 24]"
      ]
     },
     "execution_count": 27,
     "metadata": {},
     "output_type": "execute_result"
    }
   ],
   "source": [
    "heap_sort(li)\n",
    "li"
   ]
  },
  {
   "cell_type": "code",
   "execution_count": null,
   "metadata": {},
   "outputs": [],
   "source": [
    "'''\n",
    "归并排序\n",
    "1、将列表对半划分，得到两个子列表（left，mid）（mid+1，right）\n",
    "2、一直递归划分至两个元素，然后排序\n",
    "3、最后，将返回递归的子列表进行合并\n",
    "4、复杂度：O（nlogn），稳定\n",
    "''' \n",
    "# 整合两个有序的列表（逻辑划分的），被mid分开的两个有序列表\n",
    "def merge(li, low, mid, high): \n",
    "    i = low    # 左边列表的下标（用于遍历）\n",
    "    j = mid+1  # 右边列表的下标\n",
    "    t = []     # 用于存储整合的列表\n",
    "    \n",
    "    # 任意一个有序列表遍历完\n",
    "    while i<=mid and j<=high: \n",
    "        if li[i] < li[j]:\n",
    "            t.append(li[i])   # 从小到大存\n",
    "            i += 1\n",
    "        else:\n",
    "            t.append(li[j])\n",
    "            j += 1\n",
    "    # while 执行完之后，肯定有一部分没数了\n",
    "    \n",
    "    while i <= mid:\n",
    "        t.append(li[i])\n",
    "        i += 1\n",
    "    while j <= high:\n",
    "        t.append(li[j])\n",
    "        j += 1\n",
    "        \n",
    "    li[low:high+1] = t  # 包前不包后，所以high下标要加1\n",
    "\n",
    "def merge_sort(li, low, high):\n",
    "    if low < high:  # 至少有两个元素\n",
    "        mid = (low + high) // 2\n",
    "        merge_sort(li, low, mid)\n",
    "        merge_sort(li, mid+1, high)\n",
    "        \n",
    "        # 最深层的递归最先到达这一步，进行排序，应该只包含了两个元素，所以返回之后是有序的\n",
    "        # 之后再依次整合起来\n",
    "        merge(li, low, mid, high) "
   ]
  }
 ],
 "metadata": {
  "kernelspec": {
   "display_name": "Python 3",
   "language": "python",
   "name": "python3"
  },
  "language_info": {
   "codemirror_mode": {
    "name": "ipython",
    "version": 3
   },
   "file_extension": ".py",
   "mimetype": "text/x-python",
   "name": "python",
   "nbconvert_exporter": "python",
   "pygments_lexer": "ipython3",
   "version": "3.7.6"
  }
 },
 "nbformat": 4,
 "nbformat_minor": 4
}
