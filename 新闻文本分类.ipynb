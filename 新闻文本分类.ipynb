{
 "cells": [
  {
   "cell_type": "code",
   "execution_count": 1,
   "metadata": {},
   "outputs": [
    {
     "data": {
      "text/html": [
       "<div>\n",
       "<style scoped>\n",
       "    .dataframe tbody tr th:only-of-type {\n",
       "        vertical-align: middle;\n",
       "    }\n",
       "\n",
       "    .dataframe tbody tr th {\n",
       "        vertical-align: top;\n",
       "    }\n",
       "\n",
       "    .dataframe thead th {\n",
       "        text-align: right;\n",
       "    }\n",
       "</style>\n",
       "<table border=\"1\" class=\"dataframe\">\n",
       "  <thead>\n",
       "    <tr style=\"text-align: right;\">\n",
       "      <th></th>\n",
       "      <th>stopword</th>\n",
       "    </tr>\n",
       "  </thead>\n",
       "  <tbody>\n",
       "    <tr>\n",
       "      <th>0</th>\n",
       "      <td>!</td>\n",
       "    </tr>\n",
       "    <tr>\n",
       "      <th>1</th>\n",
       "      <td>\"</td>\n",
       "    </tr>\n",
       "    <tr>\n",
       "      <th>2</th>\n",
       "      <td>#</td>\n",
       "    </tr>\n",
       "    <tr>\n",
       "      <th>3</th>\n",
       "      <td>$</td>\n",
       "    </tr>\n",
       "    <tr>\n",
       "      <th>4</th>\n",
       "      <td>%</td>\n",
       "    </tr>\n",
       "  </tbody>\n",
       "</table>\n",
       "</div>"
      ],
      "text/plain": [
       "  stopword\n",
       "0        !\n",
       "1        \"\n",
       "2        #\n",
       "3        $\n",
       "4        %"
      ]
     },
     "execution_count": 1,
     "metadata": {},
     "output_type": "execute_result"
    }
   ],
   "source": [
    "# 读取数据\n",
    "import pandas as pd\n",
    "\n",
    "# 读取数据的时候，可以把重复的和空值去掉\n",
    "data_df = pd.read_csv('./data/result_Weibo_with_label.csv', \n",
    "                      encoding='utf8').dropna().drop_duplicates(['content'], keep='first')\n",
    "\n",
    "stopwords = pd.read_csv('./data/data_stopwords.txt', index_col=False, sep='\\t', \n",
    "                       quoting=3, names=['stopword'], encoding='utf8')\n",
    "stopwords = stopwords.append(pd.read_csv('./data/data_stopwords_Weibo.txt', index_col=False, sep='\\t', \n",
    "                                         quoting=3, names=['stopword'], encoding='utf8'))\n",
    "stopwords.head()"
   ]
  },
  {
   "cell_type": "code",
   "execution_count": 3,
   "metadata": {},
   "outputs": [
    {
     "name": "stdout",
     "output_type": "stream",
     "text": [
      "Pretty printing has been turned OFF\n"
     ]
    },
    {
     "data": {
      "text/plain": [
       "[['全球', '每年', '生产', '近', '1000', '亿件', '衣服', '，', '但', '最终', '85%', '的', '纺织品', '都', '要', '被', '丢弃', '和', '填埋', '，', '可', '持续', '的', '时尚', '行业', '将', '为', '地球', '环境', '带来', '积极', '转变', '。', '在', '<', 'a', ' ', 'target', '=', '\"', '_', 'blank', '\"', ' ', 'render', '=', '\"', 'ext', '\"', ' ', 'suda', '-', 'uatrack', '=', '\"', 'key', '=', 'topic', '_', 'click', '&', 'amp', ';', 'value', '=', 'click', '_', 'topic', '\"', ' ', 'class', '=', '\"', 'a', '_', 'topic', '\"', ' ', 'extra', '-', 'data', '=', '\"', 'type', '=', 'topic', '\"', ' ', 'href', '=', '\"', '/', '/', 's', '.', 'weibo', '.', 'com', '/', 'weibo', '?', 'q', '=', '%', '23%', 'E5%', '9C%', 'B0%', 'E7%', '90%', '83%', 'E8%', 'A1%', 'A8%', 'E7%', '99%', 'BD%', 'E6%', '97%', 'A5%', '23', '&', 'amp', ';', 'from', '=', 'default', '\"', '>', '#', '地球', '表白', '日', '#', '<', '/', 'a', '>', ' ', '与', '我', '和', '<', 'a', ' ', 'target', '=', '\"', '_', 'blank', '\"', ' ', 'render', '=', '\"', 'ext', '\"', ' ', 'extra', '-', 'data', '=', '\"', 'type', '=', 'atname', '\"', ' ', 'href', '=', '\"', '/', '/', 'weibo', '.', 'com', '/', 'n', '/', 'WWF%', 'E4%', 'B8%', '96%', 'E7%', '95%', '8C%', 'E8%', '87%', 'AA%', 'E7%', '84%', 'B6%', 'E5%', '9F%', 'BA%', 'E9%', '87%', '91%', 'E4%', 'BC%', '9A', '?', 'from', '=', 'feed', '&', 'amp', ';', 'loc', '=', 'at', '\"', ' ', 'usercard', '=', '\"', 'name', '=', 'WWF', '世界', '自然', '基金会', '\"', '>', '@', 'WWF', '世界', '自然', '基金会', '<', '/', 'a', '>', ' ', '一起', '关注', '可', '持续', '时尚', '，', '消费', '有', '度', '，', '穿着', '本色', '，', '旧衣', '循环', '，', '“', '衣', '”', '起', '表白', ' ', '！', '<', 'a', ' ', 'target', '=', '\"', '_', 'blank', '\"', ' ', 'render', '=', '\"', 'ext', '\"', ' ', 'suda', '-', 'uatrack', '=', '\"', 'key', '=', 'topic', '_', 'click', '&', 'amp', ';', 'value', '=', 'click', '_', 'topic', '\"', ' ', 'class', '=', '\"', 'a', '_', 'topic', '\"', ' ', 'extra', '-', 'data', '=', '\"', 'type', '=', 'topic', '\"', ' ', 'href', '=', '\"', '/', '/', 's', '.', 'weibo', '.', 'com', '/', 'weibo', '?', 'q', '=', '%', '23%', 'E8%', 'A1%', 'A3%', 'E8%', 'B5%', 'B7%', 'E8%', 'A1%', 'A8%', 'E7%', '99%', 'BD%', '23', '&', 'amp', ';', 'from', '=', 'default', '\"', '>', '#', '衣起', '表白', '#', '<', '/', 'a', '>', '<', 'a', ' ', 'target', '=', '\"', '_', 'blank', '\"', ' ', 'render', '=', '\"', 'ext', '\"', ' ', 'suda', '-', 'uatrack', '=', '\"', 'key', '=', 'topic', '_', 'click', '&', 'amp', ';', 'value', '=', 'click', '_', 'topic', '\"', ' ', 'class', '=', '\"', 'a', '_', 'topic', '\"', ' ', 'extra', '-', 'data', '=', '\"', 'type', '=', 'topic', '\"', ' ', 'href', '=', '\"', '/', '/', 's', '.', 'weibo', '.', 'com', '/', 'weibo', '?', 'q', '=', '%', '23%', 'E7%', '88%', 'B1%', 'E8%', 'B1%', '86v%', 'E5%', '8A%', '9B%', 'E9%', '87%', '8F%', '23', '&', 'amp', ';', 'from', '=', 'default', '\"', '>', '#', '爱豆', 'v', '力量', '#', '<', '/', 'a', '>', ' ', '\\u200b', '\\u200b', '\\u200b', '\\u200b'], ['<', 'a', ' ', 'target', '=', '\"', '_', 'blank', '\"', ' ', 'render', '=', '\"', 'ext', '\"', ' ', 'suda', '-', 'uatrack', '=', '\"', 'key', '=', 'topic', '_', 'click', '&', 'amp', ';', 'value', '=', 'click', '_', 'topic', '\"', ' ', 'class', '=', '\"', 'a', '_', 'topic', '\"', ' ', 'extra', '-', 'data', '=', '\"', 'type', '=', 'topic', '\"', ' ', 'href', '=', '\"', '/', '/', 's', '.', 'weibo', '.', 'com', '/', 'weibo', '?', 'q', '=', '%', '23%', 'E4%', 'BB%', '8E%', 'E5%', 'B9%', 'B8%', 'E7%', 'A6%', '8F%', 'E5%', '88%', 'B0%', 'E7%', '81%', 'BE%', 'E9%', '9A%', 'BE%', 'E5%', '8F%', 'AA%', 'E9%', '9C%', '80%', 'E8%', 'A6%', '81%', 'E4%', 'B8%', '80%', 'E7%', '9E%', 'AC%', 'E9%', '97%', 'B4%', '23', '&', 'amp', ';', 'from', '=', 'default', '\"', '>', '#', '从', '幸福', '到', '灾难', '只', '需要', '一瞬间', '#', '<', '/', 'a', '>', ' ', '摄影师', 'Mahmoud', ' ', 'Nakib', '在', '黎巴嫩', '首都', '贝鲁特', '大', '爆炸', '前', '，', '正在', '为', '一对', '新人', '拍摄', '美好', '的', '婚礼', '画面', '，', '然而', '下', '一秒', '突如其来', '的', '爆炸', '打破', '了', '一切', '美好', '，', '摄影师', '也', '恰好', '记录', '下', '了', '这', '一', '画面', '，', '前后', '对比', '的', '冲击', '实在', '是', '让', '人', '感到', '震撼', '，', '仿佛', '电影', '中', '的', '灾难片', '...&', 'nbsp', ';', '&', 'nbsp', ';', '<', 'a', ' ', 'suda', '-', 'uatrack', '=', '\"', 'key', '=', 'tblog', '_', 'card', '&', 'amp', ';', 'value', '=', 'click', '_', 'title', ':', '4534878554563376', ':', '1034', '-', 'video', ':', '1034%', '3A4534877945790496', ':', 'page', '_', '102803', '_', 'ctg1', '_', '4188', '_-_', 'ctg1', '_', '4188', '_', 'home', ':', '2607384040', ':', '4534878554563376', ':', '2607384040', '\"', ' ', 'title', '=', '\"', '月光', '少女', '肖', '同学', '的', '微博', '视频', '\"', ' ', 'href', '=', '\"', 'http', ':', '/', '/', 't', '.', 'cn', '/', 'A6UMnCKj', '\"', ' ', 'alt', '=', '\"', 'http', ':', '/', '/', 't', '.', 'cn', '/', 'A6UMnCKj', '\"', ' ', 'action', '-', 'type', '=', '\"', 'feed', '_', 'list', '_', 'url', '\"', ' ', 'target', '=', '\"', '_', 'blank', '\"', ' ', 'rel', '=', '\"', 'noopener', ' ', 'noreferrer', '\"', '>', '<', 'i', ' ', 'class', '=', '\"', 'W', '_', 'ficon', ' ', 'ficon', '_', 'cd', '_', 'video', '\"', '>', 'L', '<', '/', 'i', '>', '月光', '少女', '肖', '同学', '的', '微博', '视频', '<', '/', 'a', '>', ' ', '\\u200b', '\\u200b', '\\u200b', '\\u200b'], ['<', 'a', ' ', 'target', '=', '\"', '_', 'blank', '\"', ' ', 'render', '=', '\"', 'ext', '\"', ' ', 'suda', '-', 'uatrack', '=', '\"', 'key', '=', 'topic', '_', 'click', '&', 'amp', ';', 'value', '=', 'click', '_', 'topic', '\"', ' ', 'class', '=', '\"', 'a', '_', 'topic', '\"', ' ', 'extra', '-', 'data', '=', '\"', 'type', '=', 'topic', '\"', ' ', 'href', '=', '\"', '/', '/', 's', '.', 'weibo', '.', 'com', '/', 'weibo', '?', 'q', '=', '%', '23%', 'E6%', 'B9%', '96%', 'E5%', '8D%', '97%', 'E9%', 'AB%', '98%', 'E4%', 'B8%', '80%', 'E6%', '96%', 'B0%', 'E7%', '94%', '9F%', 'E5%', '86%', '9B%', 'E8%', 'AE%', 'AD%', 'E6%', '97%', 'B6%', 'E6%', 'AD%', 'BB%', 'E4%', 'BA%', 'A1%', '23', '&', 'amp', ';', 'from', '=', 'default', '\"', '>', '#', '湖南', '高一', '新生', '军训', '时', '死亡', '#', '<', '/', 'a', '>', '【', '湖南', '高一', '新生', '军训', '时', '晕倒', '身亡', '，', '教育局', '通报', '系因', '患热射病', '已', '启动', '调查', '】', '<', 'a', ' ', 'target', '=', '\"', '_', 'blank', '\"', ' ', 'render', '=', '\"', 'ext', '\"', ' ', 'suda', '-', 'uatrack', '=', '\"', 'key', '=', 'topic', '_', 'click', '&', 'amp', ';', 'value', '=', 'click', '_', 'topic', '\"', ' ', 'class', '=', '\"', 'a', '_', 'topic', '\"', ' ', 'extra', '-', 'data', '=', '\"', 'type', '=', 'topic', '\"', ' ', 'href', '=', '\"', '/', '/', 's', '.', 'weibo', '.', 'com', '/', 'weibo', '?', 'q', '=', '%', '23%', 'E6%', '95%', '99%', 'E8%', '82%', 'B2%', 'E5%', 'B1%', '80%', 'E9%', '80%', '9A%', 'E6%', '8A%', 'A5%', 'E9%', 'AB%', '98%', 'E4%', 'B8%', '80%', 'E6%', '96%', 'B0%', 'E7%', '94%', '9F%', 'E5%', '86%', '9B%', 'E8%', 'AE%', 'AD%', 'E6%', '99%', '95%', 'E5%', '80%', '92%', 'E8%', 'BA%', 'AB%', 'E4%', 'BA%', 'A1%', '23', '&', 'amp', ';', 'from', '=', 'default', '\"', '>', '#', '教育局', '通报', '高一', '新生', '军训', '晕倒', '身亡', '#', '<', '/', 'a', '>', '8', '月', '4', '日', '下午', '，', '湖南', '临澧', '高一', '新生', '王', '某某', '在', '军训', '时', '晕倒', '并', '出现', '呕吐', '症状', '，', '后', '送医', '抢救无效', '死亡', '。', '王', '某某', '母亲', '称', '，', '当日', '17', '时许', '，', '接到', '校方', '电话', '通知', '孩子', '正在', '医院', '抢救', '，', '赶到', '医院', '后', '，', '只有', '一名', '高年级', '学生', '在场', '，', '质疑', '校方', '没有', '及', '时代', '缴费', '，', '导致', '孩子', '无法', '得到', '及时', '救治', '。', '5', '日', '，', '临澧', '教育局', '通报', '表示', '，', '事发', '后', '学校', '立即', '对王', '某某', '采取', '急救', '措施', '，', '王', '某某', '因患', '热射病', '不幸身亡', '，', '现已', '启动', '相关', '调查', '程序', '。', '8', '月', '6', '日', '，', '学校', '办公室', '科长', '回复', '南', '都', '记者', '，', '当时', '包括', '2', '名', '教师', '在内', '共', '3', '人', '一同', '前往', '医院', '，', '到院', '后', '立刻', '抢救', '，', '不', '存在', '缴费', '后', '再', '救治', '的', '说法', '。', ' ', '<', 'a', ' ', 'suda', '-', 'uatrack', '=', '\"', 'key', '=', 'tblog', '_', 'card', '&', 'amp', ';', 'value', '=', 'click', '_', 'title', ':', '4534966240677280', ':', '1034', '-', 'video', ':', '1034%', '3A4534966042951694', ':', 'getlongtext', ':', '6217683074', ':', '4534966240677280', ':', '6217683074', '\"', ' ', 'title', '=', '\"', 'N', '视频', '的', '微博', '视频', '\"', ' ', 'href', '=', '\"', 'http', ':', '/', '/', 't', '.', 'cn', '/', 'A6UxcyDx', '\"', ' ', 'alt', '=', '\"', 'http', ':', '/', '/', 't', '.', 'cn', '/', 'A6UxcyDx', '\"', ' ', 'action', '-', 'type', '=', '\"', 'feed', '_', 'list', '_', 'url', '\"', ' ', 'target', '=', '\"', '_', 'blank', '\"', ' ', 'rel', '=', '\"', 'noopener', ' ', 'noreferrer', '\"', '>', '<', 'i', ' ', 'class', '=', '\"', 'W', '_', 'ficon', ' ', 'ficon', '_', 'cd', '_', 'video', '\"', '>', 'L', '<', '/', 'i', '>', 'N', '视频', '的', '微博', '视频', '<', '/', 'a', '>', '<', 'a', ' ', 'href', '=', '\"', 'javascript', ':', 'void', '(', '0', ')', ';', '\"', ' ', 'ignore', '=', '\"', 'ignore', '\"', ' ', 'suda', '-', 'data', '=', '\"', 'key', '=', 'original', '_', 'blog', '_', 'unfold', '&', 'amp', ';', 'value', '=', 'click', '_', 'pickup', ':', '4534966240677280', ':', '5508166808', '\"', ' ', 'class', '=', '\"', 'WB', '_', 'text', '_', 'opt', '\"', ' ', 'action', '-', 'type', '=', '\"', 'fl', '_', 'fold', '\"', '>', '收起', '全文', '<', 'i', ' ', 'class', '=', '\"', 'W', '_', 'ficon', ' ', 'ficon', '_', 'arrow', '_', 'up', '\"', '>', 'd', '<', '/', 'i', '>', '<', '/', 'a', '>']]"
      ]
     },
     "execution_count": 3,
     "metadata": {},
     "output_type": "execute_result"
    }
   ],
   "source": [
    "# 数据预处理\n",
    "# 1、分词\n",
    "import jieba\n",
    "\n",
    "contents = data_df['content'].values.tolist()    # 变成列表好操作一点\n",
    "contents_segment = []\n",
    "for content in contents:\n",
    "    content_segment = jieba.lcut(content)\n",
    "    if len(content_segment) > 1 and content_segment != '\\t\\r':\n",
    "        contents_segment.append(content_segment)\n",
    "%pprint        \n",
    "contents_segment[:3][:3]"
   ]
  },
  {
   "cell_type": "code",
   "execution_count": 7,
   "metadata": {},
   "outputs": [
    {
     "data": {
      "text/plain": [
       "3"
      ]
     },
     "execution_count": 7,
     "metadata": {},
     "output_type": "execute_result"
    }
   ],
   "source": [
    "len(contents_segment[:3][:3])"
   ]
  },
  {
   "cell_type": "code",
   "execution_count": 9,
   "metadata": {},
   "outputs": [
    {
     "data": {
      "text/html": [
       "<div>\n",
       "<style scoped>\n",
       "    .dataframe tbody tr th:only-of-type {\n",
       "        vertical-align: middle;\n",
       "    }\n",
       "\n",
       "    .dataframe tbody tr th {\n",
       "        vertical-align: top;\n",
       "    }\n",
       "\n",
       "    .dataframe thead th {\n",
       "        text-align: right;\n",
       "    }\n",
       "</style>\n",
       "<table border=\"1\" class=\"dataframe\">\n",
       "  <thead>\n",
       "    <tr style=\"text-align: right;\">\n",
       "      <th></th>\n",
       "      <th>content</th>\n",
       "      <th>label</th>\n",
       "    </tr>\n",
       "  </thead>\n",
       "  <tbody>\n",
       "    <tr>\n",
       "      <th>0</th>\n",
       "      <td>全球 每年 生产 近 亿件 衣服 但 最终 的 纺织品 都 要 被 丢弃 和 填埋 可 持续...</td>\n",
       "      <td>社会</td>\n",
       "    </tr>\n",
       "    <tr>\n",
       "      <th>1</th>\n",
       "      <td>从 幸福 到 灾难 只 需要 一瞬间 摄影师 在 黎巴嫩 首都 贝鲁特 大 爆炸 前 正在 ...</td>\n",
       "      <td>社会</td>\n",
       "    </tr>\n",
       "    <tr>\n",
       "      <th>2</th>\n",
       "      <td>湖南 高一 新生 军训 时 死亡 湖南 高一 新生 军训 时 晕倒 身亡 教育局 通报 系因...</td>\n",
       "      <td>社会</td>\n",
       "    </tr>\n",
       "    <tr>\n",
       "      <th>3</th>\n",
       "      <td>上海 首例 养犬人 遗弃 犬 只案 警方 罚狗 主人 五百元 吊销 犬证 月 日 上午 在 ...</td>\n",
       "      <td>社会</td>\n",
       "    </tr>\n",
       "    <tr>\n",
       "      <th>4</th>\n",
       "      <td>男子 携子 威胁 妻子 并称 我 只 打过 她 次 都 没进 医院 月 日 家住 四川省 乐...</td>\n",
       "      <td>社会</td>\n",
       "    </tr>\n",
       "  </tbody>\n",
       "</table>\n",
       "</div>"
      ],
      "text/plain": [
       "                                             content label\n",
       "0  全球 每年 生产 近 亿件 衣服 但 最终 的 纺织品 都 要 被 丢弃 和 填埋 可 持续...    社会\n",
       "1  从 幸福 到 灾难 只 需要 一瞬间 摄影师 在 黎巴嫩 首都 贝鲁特 大 爆炸 前 正在 ...    社会\n",
       "2  湖南 高一 新生 军训 时 死亡 湖南 高一 新生 军训 时 晕倒 身亡 教育局 通报 系因...    社会\n",
       "3  上海 首例 养犬人 遗弃 犬 只案 警方 罚狗 主人 五百元 吊销 犬证 月 日 上午 在 ...    社会\n",
       "4  男子 携子 威胁 妻子 并称 我 只 打过 她 次 都 没进 医院 月 日 家住 四川省 乐...    社会"
      ]
     },
     "execution_count": 9,
     "metadata": {},
     "output_type": "execute_result"
    }
   ],
   "source": [
    "# 2、去除停用词和非中文词\n",
    "def drop_stopwords(texts, stopwords):\n",
    "    clean_texts = []\n",
    "    for text in texts:\n",
    "        clean_words = []\n",
    "        for word in text:\n",
    "            if word in stopwords or not '\\u4e00' <= word <= '\\u9fff':\n",
    "                continue\n",
    "            else:\n",
    "                clean_words.append(word)\n",
    "        \n",
    "        clean_texts.append(clean_words)\n",
    "        \n",
    "    return clean_texts\n",
    "\n",
    "clean_contents = [' '.join(text) for text in drop_stopwords(contents_segment, stopwords)]\n",
    "data_df['content'] = clean_contents\n",
    "data_df.head()"
   ]
  },
  {
   "cell_type": "code",
   "execution_count": 20,
   "metadata": {},
   "outputs": [
    {
     "data": {
      "text/plain": [
       "array(['健康', '动漫', '游戏'], dtype=object)"
      ]
     },
     "execution_count": 20,
     "metadata": {},
     "output_type": "execute_result"
    }
   ],
   "source": [
    "# 划分数据集\n",
    "from sklearn.model_selection import train_test_split\n",
    "x_train, x_test, y_train, y_test = train_test_split(data_df['content'].values, \n",
    "                                                   data_df['label'].values, random_state=1)\n",
    "y_train[:3]"
   ]
  },
  {
   "cell_type": "code",
   "execution_count": 23,
   "metadata": {},
   "outputs": [],
   "source": [
    "# 构建词向量\n",
    "from sklearn.feature_extraction.text import TfidfVectorizer\n",
    "vel_model = TfidfVectorizer()\n",
    "\n",
    "x_train_vel = vel_model.fit_transform(x_train).toarray()\n",
    "x_test_vel = vel_model.transform(x_test).toarray()      # 不能两个都fit，只用一个训练就可以了\n",
    "# 不然每个词典不一样，"
   ]
  },
  {
   "cell_type": "code",
   "execution_count": 24,
   "metadata": {},
   "outputs": [
    {
     "data": {
      "text/plain": [
       "0.8071604938271605"
      ]
     },
     "execution_count": 24,
     "metadata": {},
     "output_type": "execute_result"
    }
   ],
   "source": [
    "# 使用随机梯度分类器\n",
    "from sklearn.linear_model import SGDClassifier\n",
    "clf = SGDClassifier()\n",
    "clf.fit(x_train_vel, y_train)\n",
    "clf.score(x_test_vel, y_test)"
   ]
  },
  {
   "cell_type": "code",
   "execution_count": null,
   "metadata": {},
   "outputs": [],
   "source": []
  }
 ],
 "metadata": {
  "kernelspec": {
   "display_name": "Python 3",
   "language": "python",
   "name": "python3"
  },
  "language_info": {
   "codemirror_mode": {
    "name": "ipython",
    "version": 3
   },
   "file_extension": ".py",
   "mimetype": "text/x-python",
   "name": "python",
   "nbconvert_exporter": "python",
   "pygments_lexer": "ipython3",
   "version": "3.7.6"
  }
 },
 "nbformat": 4,
 "nbformat_minor": 4
}
